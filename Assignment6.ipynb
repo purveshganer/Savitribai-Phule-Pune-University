{
 "cells": [
  {
   "cell_type": "markdown",
   "id": "b4434c34-c9f1-4676-a7d2-4e55796245f9",
   "metadata": {},
   "source": [
    "<h2><center><font color='red'>Importing Libraries</font></h2>"
   ]
  },
  {
   "cell_type": "code",
   "execution_count": 1,
   "id": "71af0578-c121-44df-b7e2-d8441f87aa96",
   "metadata": {},
   "outputs": [],
   "source": [
    "import pandas as pd\n",
    "import numpy as np\n",
    "import seaborn as sns\n",
    "import matplotlib.pyplot as plt\n",
    "from sklearn.model_selection import train_test_split\n",
    "from sklearn.naive_bayes import GaussianNB\n",
    "from sklearn.metrics import accuracy_score\n",
    "\n",
    "sns.set_style('darkgrid')\n",
    "%matplotlib inline"
   ]
  },
  {
   "cell_type": "markdown",
   "id": "d8a4b70c-988a-4389-9b20-f6c9c65bd717",
   "metadata": {},
   "source": [
    "<h2><center><font color='red'>Loading the Dataset</font></h2>"
   ]
  },
  {
   "cell_type": "code",
   "execution_count": 2,
   "id": "debcc0d2-67bc-46a0-bf95-c006a6ae8e1a",
   "metadata": {},
   "outputs": [
    {
     "name": "stdout",
     "output_type": "stream",
     "text": [
      "   sepal_length  sepal_width  petal_length  petal_width species\n",
      "0           5.1          3.5           1.4          0.2  setosa\n",
      "1           4.9          3.0           1.4          0.2  setosa\n",
      "2           4.7          3.2           1.3          0.2  setosa\n",
      "3           4.6          3.1           1.5          0.2  setosa\n",
      "4           5.0          3.6           1.4          0.2  setosa\n"
     ]
    }
   ],
   "source": [
    "dataset = sns.load_dataset('iris')\n",
    "print(dataset.head(5))"
   ]
  },
  {
   "cell_type": "markdown",
   "id": "aee89e40-2882-42a4-9c71-15ed0b91cd9b",
   "metadata": {},
   "source": [
    "<h2><center><font color='red'>Looking at all possible values for the \"species\" attribute</font></h2>"
   ]
  },
  {
   "cell_type": "code",
   "execution_count": 4,
   "id": "d2d12a7d-a534-4809-895f-27056e69e3ca",
   "metadata": {},
   "outputs": [
    {
     "name": "stdout",
     "output_type": "stream",
     "text": [
      "['setosa' 'versicolor' 'virginica']\n"
     ]
    }
   ],
   "source": [
    "print(dataset.species.unique())"
   ]
  },
  {
   "cell_type": "markdown",
   "id": "fe0af2d7-c63b-4516-8237-f4bcdba190fa",
   "metadata": {},
   "source": [
    "<h2><center><font color='red'>Using label encoder for encoding species</font></h2>"
   ]
  },
  {
   "cell_type": "code",
   "execution_count": 6,
   "id": "1ceef514-beaf-4ea3-a219-496443571ae9",
   "metadata": {},
   "outputs": [],
   "source": [
    "encode = {'setosa':0, 'versicolor':1, 'virginica':2}\n",
    "decode = {0:'setosa', 1:'vericolor', 2:'virginica'}"
   ]
  },
  {
   "cell_type": "code",
   "execution_count": 7,
   "id": "58e5ca61-04ba-4b84-9d7f-25fc78da51d5",
   "metadata": {},
   "outputs": [
    {
     "name": "stdout",
     "output_type": "stream",
     "text": [
      "[0 1 2]\n"
     ]
    }
   ],
   "source": [
    "dataset['species'] = dataset['species'].map(encode)\n",
    "print(dataset.species.unique())"
   ]
  },
  {
   "cell_type": "markdown",
   "id": "e1f86671-fc1f-42ee-9b0d-d636d8932d0f",
   "metadata": {},
   "source": [
    "<h2><center><font color='red'>Creating Train and Test sets</font></h2>"
   ]
  },
  {
   "cell_type": "code",
   "execution_count": 8,
   "id": "5fc7c2b3-6fa4-401d-a622-49f4a700dc23",
   "metadata": {},
   "outputs": [],
   "source": [
    "features = dataset.drop(columns=['species'])\n",
    "target = dataset['species']\n",
    "\n",
    "xtrain, xtest, ytrain, ytest = train_test_split(features, target, test_size=0.2)"
   ]
  },
  {
   "cell_type": "markdown",
   "id": "107012bb-679f-481e-8753-bc930e52958e",
   "metadata": {},
   "source": [
    "<h2><center><font color='red'>Defining and Training the Model</font></h2>"
   ]
  },
  {
   "cell_type": "code",
   "execution_count": 9,
   "id": "6952ed36-3597-4747-8599-d48d877d2159",
   "metadata": {},
   "outputs": [
    {
     "data": {
      "text/html": [
       "<style>#sk-container-id-1 {color: black;}#sk-container-id-1 pre{padding: 0;}#sk-container-id-1 div.sk-toggleable {background-color: white;}#sk-container-id-1 label.sk-toggleable__label {cursor: pointer;display: block;width: 100%;margin-bottom: 0;padding: 0.3em;box-sizing: border-box;text-align: center;}#sk-container-id-1 label.sk-toggleable__label-arrow:before {content: \"▸\";float: left;margin-right: 0.25em;color: #696969;}#sk-container-id-1 label.sk-toggleable__label-arrow:hover:before {color: black;}#sk-container-id-1 div.sk-estimator:hover label.sk-toggleable__label-arrow:before {color: black;}#sk-container-id-1 div.sk-toggleable__content {max-height: 0;max-width: 0;overflow: hidden;text-align: left;background-color: #f0f8ff;}#sk-container-id-1 div.sk-toggleable__content pre {margin: 0.2em;color: black;border-radius: 0.25em;background-color: #f0f8ff;}#sk-container-id-1 input.sk-toggleable__control:checked~div.sk-toggleable__content {max-height: 200px;max-width: 100%;overflow: auto;}#sk-container-id-1 input.sk-toggleable__control:checked~label.sk-toggleable__label-arrow:before {content: \"▾\";}#sk-container-id-1 div.sk-estimator input.sk-toggleable__control:checked~label.sk-toggleable__label {background-color: #d4ebff;}#sk-container-id-1 div.sk-label input.sk-toggleable__control:checked~label.sk-toggleable__label {background-color: #d4ebff;}#sk-container-id-1 input.sk-hidden--visually {border: 0;clip: rect(1px 1px 1px 1px);clip: rect(1px, 1px, 1px, 1px);height: 1px;margin: -1px;overflow: hidden;padding: 0;position: absolute;width: 1px;}#sk-container-id-1 div.sk-estimator {font-family: monospace;background-color: #f0f8ff;border: 1px dotted black;border-radius: 0.25em;box-sizing: border-box;margin-bottom: 0.5em;}#sk-container-id-1 div.sk-estimator:hover {background-color: #d4ebff;}#sk-container-id-1 div.sk-parallel-item::after {content: \"\";width: 100%;border-bottom: 1px solid gray;flex-grow: 1;}#sk-container-id-1 div.sk-label:hover label.sk-toggleable__label {background-color: #d4ebff;}#sk-container-id-1 div.sk-serial::before {content: \"\";position: absolute;border-left: 1px solid gray;box-sizing: border-box;top: 0;bottom: 0;left: 50%;z-index: 0;}#sk-container-id-1 div.sk-serial {display: flex;flex-direction: column;align-items: center;background-color: white;padding-right: 0.2em;padding-left: 0.2em;position: relative;}#sk-container-id-1 div.sk-item {position: relative;z-index: 1;}#sk-container-id-1 div.sk-parallel {display: flex;align-items: stretch;justify-content: center;background-color: white;position: relative;}#sk-container-id-1 div.sk-item::before, #sk-container-id-1 div.sk-parallel-item::before {content: \"\";position: absolute;border-left: 1px solid gray;box-sizing: border-box;top: 0;bottom: 0;left: 50%;z-index: -1;}#sk-container-id-1 div.sk-parallel-item {display: flex;flex-direction: column;z-index: 1;position: relative;background-color: white;}#sk-container-id-1 div.sk-parallel-item:first-child::after {align-self: flex-end;width: 50%;}#sk-container-id-1 div.sk-parallel-item:last-child::after {align-self: flex-start;width: 50%;}#sk-container-id-1 div.sk-parallel-item:only-child::after {width: 0;}#sk-container-id-1 div.sk-dashed-wrapped {border: 1px dashed gray;margin: 0 0.4em 0.5em 0.4em;box-sizing: border-box;padding-bottom: 0.4em;background-color: white;}#sk-container-id-1 div.sk-label label {font-family: monospace;font-weight: bold;display: inline-block;line-height: 1.2em;}#sk-container-id-1 div.sk-label-container {text-align: center;}#sk-container-id-1 div.sk-container {/* jupyter's `normalize.less` sets `[hidden] { display: none; }` but bootstrap.min.css set `[hidden] { display: none !important; }` so we also need the `!important` here to be able to override the default hidden behavior on the sphinx rendered scikit-learn.org. See: https://github.com/scikit-learn/scikit-learn/issues/21755 */display: inline-block !important;position: relative;}#sk-container-id-1 div.sk-text-repr-fallback {display: none;}</style><div id=\"sk-container-id-1\" class=\"sk-top-container\"><div class=\"sk-text-repr-fallback\"><pre>GaussianNB()</pre><b>In a Jupyter environment, please rerun this cell to show the HTML representation or trust the notebook. <br />On GitHub, the HTML representation is unable to render, please try loading this page with nbviewer.org.</b></div><div class=\"sk-container\" hidden><div class=\"sk-item\"><div class=\"sk-estimator sk-toggleable\"><input class=\"sk-toggleable__control sk-hidden--visually\" id=\"sk-estimator-id-1\" type=\"checkbox\" checked><label for=\"sk-estimator-id-1\" class=\"sk-toggleable__label sk-toggleable__label-arrow\">GaussianNB</label><div class=\"sk-toggleable__content\"><pre>GaussianNB()</pre></div></div></div></div></div>"
      ],
      "text/plain": [
       "GaussianNB()"
      ]
     },
     "execution_count": 9,
     "metadata": {},
     "output_type": "execute_result"
    }
   ],
   "source": [
    "model = GaussianNB()\n",
    "model.fit(xtrain, ytrain)"
   ]
  },
  {
   "cell_type": "markdown",
   "id": "85f0c65d-5e1e-433a-a3f4-7845ce1f1d80",
   "metadata": {},
   "source": [
    "<h2><center><font color='red'>Predicting the values and checking metrics</font></h2>"
   ]
  },
  {
   "cell_type": "code",
   "execution_count": 10,
   "id": "9af005df-18c7-4811-b4bf-9e6f47fb2f8e",
   "metadata": {},
   "outputs": [
    {
     "name": "stdout",
     "output_type": "stream",
     "text": [
      "Accuracy = 96.6667%\n"
     ]
    }
   ],
   "source": [
    "ypred = model.predict(xtest)\n",
    "\n",
    "print(f\"Accuracy = {round(accuracy_score(ytest, ypred)*100, 4)}%\")"
   ]
  },
  {
   "cell_type": "code",
   "execution_count": 11,
   "id": "d831c80f-6374-4f1e-993a-511308b71935",
   "metadata": {},
   "outputs": [
    {
     "data": {
      "image/png": "[encoded data removed]",
      "text/plain": [
       "<Figure size 640x480 with 1 Axes>"
      ]
     },
     "metadata": {},
     "output_type": "display_data"
    }
   ],
   "source": [
    "sns.heatmap(pd.crosstab(ytest.reset_index(drop=True).map(decode), pd.Series(ypred).map(decode)), fmt='d', annot=True, square=True, cbar=False)\n",
    "plt.xlabel(\"\")\n",
    "plt.ylabel(\"\")\n",
    "plt.show()"
   ]
  }
 ],
 "metadata": {
  "kernelspec": {
   "display_name": "Python 3 (ipykernel)",
   "language": "python",
   "name": "python3"
  },
  "language_info": {
   "codemirror_mode": {
    "name": "ipython",
    "version": 3
   },
   "file_extension": ".py",
   "mimetype": "text/x-python",
   "name": "python",
   "nbconvert_exporter": "python",
   "pygments_lexer": "ipython3",
   "version": "3.11.5"
  }
 },
 "nbformat": 4,
 "nbformat_minor": 5
}
