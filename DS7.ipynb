{
 "cells": [
  {
   "cell_type": "code",
   "execution_count": 1,
   "id": "82ac48c0",
   "metadata": {},
   "outputs": [],
   "source": [
    "sentence = 'Cricket is mostly played in India, Indias most watched game is also cricket. Currently Ms Dhoni is retired'"
   ]
  },
  {
   "cell_type": "code",
   "execution_count": 2,
   "id": "cec34a83",
   "metadata": {},
   "outputs": [
    {
     "name": "stdout",
     "output_type": "stream",
     "text": [
      "['Cricket', 'is', 'mostly', 'played', 'in', 'India', ',', 'Indias', 'most', 'watched', 'game', 'is', 'also', 'cricket', '.', 'Currently', 'Ms', 'Dhoni', 'is', 'retired'] \n",
      "\n",
      " ['Cricket is mostly played in India, Indias most watched game is also cricket.', 'Currently Ms Dhoni is retired']\n"
     ]
    }
   ],
   "source": [
    "import nltk\n",
    "words_token = nltk.word_tokenize(sentence)\n",
    "sent_token = nltk.sent_tokenize(sentence)\n",
    "print(words_token,'\\n\\n',sent_token)"
   ]
  },
  {
   "cell_type": "code",
   "execution_count": 3,
   "id": "46154fe7",
   "metadata": {},
   "outputs": [
    {
     "name": "stdout",
     "output_type": "stream",
     "text": [
      "['Cricket', 'mostly', 'played', 'India', 'Indias', 'watched', 'game', 'also', 'cricket', 'Currently', 'Ms', 'Dhoni', 'retired']\n"
     ]
    }
   ],
   "source": [
    "stopwords = nltk.corpus.stopwords.words('english')\n",
    "cleaned_words = []\n",
    "for word in words_token:\n",
    "    if word not in stopwords and word.isalpha(): cleaned_words.append(word)\n",
    "print(cleaned_words)"
   ]
  },
  {
   "cell_type": "code",
   "execution_count": 10,
   "id": "ba8f22f3",
   "metadata": {},
   "outputs": [
    {
     "name": "stdout",
     "output_type": "stream",
     "text": [
      "['cricket', 'mostli', 'play', 'india', 'india', 'watch', 'game', 'also', 'cricket', 'current', 'ms', 'dhoni', 'retir'] \n",
      "\n",
      " ['Cricket', 'mostly', 'played', 'India', 'Indias', 'watched', 'game', 'also', 'cricket', 'Currently', 'Ms', 'Dhoni', 'retired']\n"
     ]
    }
   ],
   "source": [
    "stemmer = nltk.PorterStemmer()\n",
    "lemmer = nltk.WordNetLemmatizer()\n",
    "\n",
    "stemm = []\n",
    "lemm = []\n",
    "for word in cleaned_words:\n",
    "    stemm.append(stemmer.stem(word))\n",
    "for word in cleaned_words:\n",
    "    lemm.append(lemmer.lemmatize(word))\n",
    "print(stemm,'\\n\\n',lemm)"
   ]
  },
  {
   "cell_type": "code",
   "execution_count": 13,
   "id": "3713b248",
   "metadata": {},
   "outputs": [
    {
     "data": {
      "text/plain": [
       "[('cricket', 'NN'),\n",
       " ('mostli', 'NN'),\n",
       " ('play', 'NN'),\n",
       " ('india', 'JJ'),\n",
       " ('india', 'NN'),\n",
       " ('watch', 'NN'),\n",
       " ('game', 'NN'),\n",
       " ('also', 'RB'),\n",
       " ('cricket', 'VBP'),\n",
       " ('current', 'JJ'),\n",
       " ('ms', 'NN'),\n",
       " ('dhoni', 'NN'),\n",
       " ('retir', 'NN')]"
      ]
     },
     "execution_count": 13,
     "metadata": {},
     "output_type": "execute_result"
    }
   ],
   "source": [
    "poswords = nltk.pos_tag(stemm)\n",
    "poswords"
   ]
  },
  {
   "cell_type": "code",
   "execution_count": 12,
   "id": "34875939",
   "metadata": {},
   "outputs": [
    {
     "name": "stderr",
     "output_type": "stream",
     "text": [
      "[nltk_data] Downloading package averaged_perceptron_tagger to\n",
      "[nltk_data]     C:\\Users\\Purvesh\\AppData\\Roaming\\nltk_data...\n",
      "[nltk_data]   Unzipping taggers\\averaged_perceptron_tagger.zip.\n"
     ]
    },
    {
     "data": {
      "text/plain": [
       "True"
      ]
     },
     "execution_count": 12,
     "metadata": {},
     "output_type": "execute_result"
    }
   ],
   "source": [
    "nltk.download('averaged_perceptron_tagger')"
   ]
  },
  {
   "cell_type": "code",
   "execution_count": 14,
   "id": "94d6dfcb",
   "metadata": {},
   "outputs": [
    {
     "data": {
      "text/plain": [
       "{'cricket': 1,\n",
       " 'is': 8,\n",
       " 'mostly': 10,\n",
       " 'played': 12,\n",
       " 'in': 5,\n",
       " 'india': 6,\n",
       " 'indias': 7,\n",
       " 'most': 9,\n",
       " 'watched': 14,\n",
       " 'game': 4,\n",
       " 'also': 0,\n",
       " 'currently': 2,\n",
       " 'ms': 11,\n",
       " 'dhoni': 3,\n",
       " 'retired': 13}"
      ]
     },
     "execution_count": 14,
     "metadata": {},
     "output_type": "execute_result"
    }
   ],
   "source": [
    "#TF_IDF (TERM FREQUENCY INVERSE DOCUMENT FREQUENCY)\n",
    "\n",
    "from sklearn.feature_extraction.text import TfidfVectorizer\n",
    "\n",
    "model = TfidfVectorizer()\n",
    "\n",
    "model_fit = model.fit([sentence])\n",
    "model_fit.vocabulary_"
   ]
  },
  {
   "cell_type": "code",
   "execution_count": 15,
   "id": "c432b50b",
   "metadata": {},
   "outputs": [
    {
     "name": "stdout",
     "output_type": "stream",
     "text": [
      "  (0, 13)\t0.19611613513818404\n",
      "  (0, 3)\t0.19611613513818404\n",
      "  (0, 11)\t0.19611613513818404\n",
      "  (0, 2)\t0.19611613513818404\n",
      "  (0, 0)\t0.19611613513818404\n",
      "  (0, 4)\t0.19611613513818404\n",
      "  (0, 14)\t0.19611613513818404\n",
      "  (0, 9)\t0.19611613513818404\n",
      "  (0, 7)\t0.19611613513818404\n",
      "  (0, 6)\t0.19611613513818404\n",
      "  (0, 5)\t0.19611613513818404\n",
      "  (0, 12)\t0.19611613513818404\n",
      "  (0, 10)\t0.19611613513818404\n",
      "  (0, 8)\t0.5883484054145521\n",
      "  (0, 1)\t0.3922322702763681\n"
     ]
    }
   ],
   "source": [
    "import numpy as np\n",
    "import pandas as pd\n",
    "model_tranform = model.fit_transform([sentence])\n",
    "print(model_tranform)"
   ]
  }
 ],
 "metadata": {
  "kernelspec": {
   "display_name": "Python 3 (ipykernel)",
   "language": "python",
   "name": "python3"
  },
  "language_info": {
   "codemirror_mode": {
    "name": "ipython",
    "version": 3
   },
   "file_extension": ".py",
   "mimetype": "text/x-python",
   "name": "python",
   "nbconvert_exporter": "python",
   "pygments_lexer": "ipython3",
   "version": "3.11.5"
  }
 },
 "nbformat": 4,
 "nbformat_minor": 5
}
