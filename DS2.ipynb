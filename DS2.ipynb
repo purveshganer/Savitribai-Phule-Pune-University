{
 "cells": [
  {
   "cell_type": "code",
   "execution_count": 2,
   "id": "0fd50fbc",
   "metadata": {},
   "outputs": [],
   "source": [
    "'''\n",
    "2.) Data Wrangling II \n",
    "Create an “Academic performance” dataset of students and perform the following operations using \n",
    "Python. \n",
    " \n",
    "1. Scan all variables for missing values and inconsistencies. \n",
    "If there are missing values and/or inconsistencies, use any of the suitable techniques to deal with them. \n",
    "2. Scan all numeric variables for outliers. If there are outliers, use any of the suitable techniques to deal with them. \n",
    "3. Apply data transformations on at least one of the variables. \n",
    "The purpose of this transformation should be one of the following reasons: \n",
    "to change the scale for better understanding of the variable, \n",
    "to convert a non-linear relation into a linear one, \n",
    "or to decrease the skewness and convert the distribution into a normal distribution. \n",
    " \n",
    "Reason and document your approach properly. '''\n",
    "import numpy as np\n",
    "import pandas as pd\n",
    "import matplotlib.pyplot as plt\n",
    "import seaborn as sns"
   ]
  },
  {
   "cell_type": "code",
   "execution_count": 3,
   "id": "f6976138",
   "metadata": {},
   "outputs": [
    {
     "data": {
      "text/html": [
       "<div>\n",
       "<style scoped>\n",
       "    .dataframe tbody tr th:only-of-type {\n",
       "        vertical-align: middle;\n",
       "    }\n",
       "\n",
       "    .dataframe tbody tr th {\n",
       "        vertical-align: top;\n",
       "    }\n",
       "\n",
       "    .dataframe thead th {\n",
       "        text-align: right;\n",
       "    }\n",
       "</style>\n",
       "<table border=\"1\" class=\"dataframe\">\n",
       "  <thead>\n",
       "    <tr style=\"text-align: right;\">\n",
       "      <th></th>\n",
       "      <th>Student_ID</th>\n",
       "      <th>TestScore</th>\n",
       "      <th>Study</th>\n",
       "      <th>cheating</th>\n",
       "    </tr>\n",
       "  </thead>\n",
       "  <tbody>\n",
       "    <tr>\n",
       "      <th>0</th>\n",
       "      <td>1</td>\n",
       "      <td>95</td>\n",
       "      <td>Always</td>\n",
       "      <td>False</td>\n",
       "    </tr>\n",
       "    <tr>\n",
       "      <th>1</th>\n",
       "      <td>2</td>\n",
       "      <td>95</td>\n",
       "      <td>Always</td>\n",
       "      <td>False</td>\n",
       "    </tr>\n",
       "    <tr>\n",
       "      <th>2</th>\n",
       "      <td>3</td>\n",
       "      <td>95</td>\n",
       "      <td>Always</td>\n",
       "      <td>False</td>\n",
       "    </tr>\n",
       "    <tr>\n",
       "      <th>3</th>\n",
       "      <td>4</td>\n",
       "      <td>95</td>\n",
       "      <td>Always</td>\n",
       "      <td>False</td>\n",
       "    </tr>\n",
       "    <tr>\n",
       "      <th>4</th>\n",
       "      <td>5</td>\n",
       "      <td>95</td>\n",
       "      <td>Always</td>\n",
       "      <td>False</td>\n",
       "    </tr>\n",
       "  </tbody>\n",
       "</table>\n",
       "</div>"
      ],
      "text/plain": [
       "   Student_ID  TestScore   Study  cheating\n",
       "0           1         95  Always     False\n",
       "1           2         95  Always     False\n",
       "2           3         95  Always     False\n",
       "3           4         95  Always     False\n",
       "4           5         95  Always     False"
      ]
     },
     "execution_count": 3,
     "metadata": {},
     "output_type": "execute_result"
    }
   ],
   "source": [
    "id = np.arange(1,21)\n",
    "testscore = np.random.randint(40,101)\n",
    "#study = np.random.choice(['never','sometimes','always'], size=20)\n",
    "\n",
    "academicPerformace = pd.DataFrame({'Student_ID':id,\n",
    "                                   'TestScore':testscore})\n",
    "\n",
    "academicPerformace['Study'] = np.where(academicPerformace['TestScore']>75,'Always','Never')\n",
    "academicPerformace['cheating'] = np.where(academicPerformace['Study']=='never',True,False)\n",
    "academicPerformace.head(5)"
   ]
  },
  {
   "cell_type": "code",
   "execution_count": 5,
   "id": "e1081cbe",
   "metadata": {},
   "outputs": [],
   "source": [
    "new_row = {'Student_ID': 22, 'TestScore': None, 'Study': 'Never', 'cheating': True}\n",
    "new_row_df = pd.DataFrame([new_row])\n",
    "\n",
    "academicPerformace = pd.concat([academicPerformace, new_row_df], ignore_index=True)"
   ]
  },
  {
   "cell_type": "code",
   "execution_count": 8,
   "id": "9a7d8482",
   "metadata": {},
   "outputs": [],
   "source": [
    "new_row = {'Student_ID': 21, 'TestScore': 1000, 'Study': 'Never', 'cheating': True}\n",
    "new_row_df = pd.DataFrame([new_row])\n",
    "academicPerformace = pd.concat([academicPerformace, new_row_df], ignore_index=True)\n"
   ]
  },
  {
   "cell_type": "code",
   "execution_count": 9,
   "id": "2fed9a3b",
   "metadata": {},
   "outputs": [
    {
     "data": {
      "text/html": [
       "<div>\n",
       "<style scoped>\n",
       "    .dataframe tbody tr th:only-of-type {\n",
       "        vertical-align: middle;\n",
       "    }\n",
       "\n",
       "    .dataframe tbody tr th {\n",
       "        vertical-align: top;\n",
       "    }\n",
       "\n",
       "    .dataframe thead th {\n",
       "        text-align: right;\n",
       "    }\n",
       "</style>\n",
       "<table border=\"1\" class=\"dataframe\">\n",
       "  <thead>\n",
       "    <tr style=\"text-align: right;\">\n",
       "      <th></th>\n",
       "      <th>Student_ID</th>\n",
       "      <th>TestScore</th>\n",
       "      <th>Study</th>\n",
       "      <th>cheating</th>\n",
       "    </tr>\n",
       "  </thead>\n",
       "  <tbody>\n",
       "    <tr>\n",
       "      <th>17</th>\n",
       "      <td>18</td>\n",
       "      <td>95</td>\n",
       "      <td>Always</td>\n",
       "      <td>False</td>\n",
       "    </tr>\n",
       "    <tr>\n",
       "      <th>18</th>\n",
       "      <td>19</td>\n",
       "      <td>95</td>\n",
       "      <td>Always</td>\n",
       "      <td>False</td>\n",
       "    </tr>\n",
       "    <tr>\n",
       "      <th>19</th>\n",
       "      <td>20</td>\n",
       "      <td>95</td>\n",
       "      <td>Always</td>\n",
       "      <td>False</td>\n",
       "    </tr>\n",
       "    <tr>\n",
       "      <th>20</th>\n",
       "      <td>22</td>\n",
       "      <td>None</td>\n",
       "      <td>Never</td>\n",
       "      <td>True</td>\n",
       "    </tr>\n",
       "    <tr>\n",
       "      <th>21</th>\n",
       "      <td>22</td>\n",
       "      <td>None</td>\n",
       "      <td>Never</td>\n",
       "      <td>True</td>\n",
       "    </tr>\n",
       "  </tbody>\n",
       "</table>\n",
       "</div>"
      ],
      "text/plain": [
       "    Student_ID TestScore   Study  cheating\n",
       "17          18        95  Always     False\n",
       "18          19        95  Always     False\n",
       "19          20        95  Always     False\n",
       "20          22      None   Never      True\n",
       "21          22      None   Never      True"
      ]
     },
     "execution_count": 9,
     "metadata": {},
     "output_type": "execute_result"
    }
   ],
   "source": [
    "academicPerformace = academicPerformace.drop(academicPerformace.index[-1])\n",
    "academicPerformace.tail(5)"
   ]
  },
  {
   "cell_type": "code",
   "execution_count": 6,
   "id": "a5dfbbf2",
   "metadata": {},
   "outputs": [
    {
     "data": {
      "text/plain": [
       "Student_ID    0\n",
       "TestScore     1\n",
       "Study         0\n",
       "cheating      0\n",
       "dtype: int64"
      ]
     },
     "execution_count": 6,
     "metadata": {},
     "output_type": "execute_result"
    }
   ],
   "source": [
    "academicPerformace.isnull().sum()\n",
    "#= academicPerformace.drop(academicPerformace.isnull())"
   ]
  },
  {
   "cell_type": "code",
   "execution_count": 7,
   "id": "75e605bd",
   "metadata": {},
   "outputs": [],
   "source": [
    "academicPerformace.fillna(71,inplace=True)"
   ]
  },
  {
   "cell_type": "code",
   "execution_count": 8,
   "id": "8f9f0f1a",
   "metadata": {},
   "outputs": [
    {
     "data": {
      "text/html": [
       "<div>\n",
       "<style scoped>\n",
       "    .dataframe tbody tr th:only-of-type {\n",
       "        vertical-align: middle;\n",
       "    }\n",
       "\n",
       "    .dataframe tbody tr th {\n",
       "        vertical-align: top;\n",
       "    }\n",
       "\n",
       "    .dataframe thead th {\n",
       "        text-align: right;\n",
       "    }\n",
       "</style>\n",
       "<table border=\"1\" class=\"dataframe\">\n",
       "  <thead>\n",
       "    <tr style=\"text-align: right;\">\n",
       "      <th></th>\n",
       "      <th>Student_ID</th>\n",
       "      <th>TestScore</th>\n",
       "      <th>Study</th>\n",
       "      <th>cheating</th>\n",
       "    </tr>\n",
       "  </thead>\n",
       "  <tbody>\n",
       "    <tr>\n",
       "      <th>16</th>\n",
       "      <td>17</td>\n",
       "      <td>100</td>\n",
       "      <td>Always</td>\n",
       "      <td>False</td>\n",
       "    </tr>\n",
       "    <tr>\n",
       "      <th>17</th>\n",
       "      <td>18</td>\n",
       "      <td>100</td>\n",
       "      <td>Always</td>\n",
       "      <td>False</td>\n",
       "    </tr>\n",
       "    <tr>\n",
       "      <th>18</th>\n",
       "      <td>19</td>\n",
       "      <td>100</td>\n",
       "      <td>Always</td>\n",
       "      <td>False</td>\n",
       "    </tr>\n",
       "    <tr>\n",
       "      <th>19</th>\n",
       "      <td>20</td>\n",
       "      <td>100</td>\n",
       "      <td>Always</td>\n",
       "      <td>False</td>\n",
       "    </tr>\n",
       "    <tr>\n",
       "      <th>20</th>\n",
       "      <td>22</td>\n",
       "      <td>71</td>\n",
       "      <td>Never</td>\n",
       "      <td>True</td>\n",
       "    </tr>\n",
       "  </tbody>\n",
       "</table>\n",
       "</div>"
      ],
      "text/plain": [
       "    Student_ID  TestScore   Study  cheating\n",
       "16          17        100  Always     False\n",
       "17          18        100  Always     False\n",
       "18          19        100  Always     False\n",
       "19          20        100  Always     False\n",
       "20          22         71   Never      True"
      ]
     },
     "execution_count": 8,
     "metadata": {},
     "output_type": "execute_result"
    }
   ],
   "source": [
    "academicPerformace.tail(5)"
   ]
  },
  {
   "cell_type": "code",
   "execution_count": 11,
   "id": "c1174f50",
   "metadata": {},
   "outputs": [
    {
     "data": {
      "text/plain": [
       "100"
      ]
     },
     "execution_count": 11,
     "metadata": {},
     "output_type": "execute_result"
    }
   ],
   "source": [
    "academicPerformace['TestScore'].max()"
   ]
  },
  {
   "cell_type": "code",
   "execution_count": null,
   "id": "58147e35",
   "metadata": {},
   "outputs": [],
   "source": []
  },
  {
   "cell_type": "code",
   "execution_count": null,
   "id": "9d5613d1",
   "metadata": {},
   "outputs": [],
   "source": []
  },
  {
   "cell_type": "code",
   "execution_count": null,
   "id": "89426ae7",
   "metadata": {},
   "outputs": [],
   "source": []
  }
 ],
 "metadata": {
  "kernelspec": {
   "display_name": "Python 3 (ipykernel)",
   "language": "python",
   "name": "python3"
  },
  "language_info": {
   "codemirror_mode": {
    "name": "ipython",
    "version": 3
   },
   "file_extension": ".py",
   "mimetype": "text/x-python",
   "name": "python",
   "nbconvert_exporter": "python",
   "pygments_lexer": "ipython3",
   "version": "3.11.5"
  }
 },
 "nbformat": 4,
 "nbformat_minor": 5
}
