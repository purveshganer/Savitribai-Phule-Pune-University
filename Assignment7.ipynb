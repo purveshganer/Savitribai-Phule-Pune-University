{
 "cells": [
  {
   "cell_type": "markdown",
   "id": "e445b8f9-704c-4905-b657-390c1e809145",
   "metadata": {},
   "source": [
    "<h2><center><font color='red'>Importing Libraries</font></h2>"
   ]
  },
  {
   "cell_type": "code",
   "execution_count": 12,
   "id": "6b9c243a-3a2b-4ac1-9d41-5703cbe79931",
   "metadata": {},
   "outputs": [],
   "source": [
    "import nltk\n",
    "import pandas as pd\n",
    "from sklearn.feature_extraction.text import TfidfVectorizer\n",
    "from sklearn.metrics.pairwise import cosine_similarity"
   ]
  },
  {
   "cell_type": "markdown",
   "id": "e09bc259-e033-4256-ac9a-3c92b757e781",
   "metadata": {},
   "source": [
    "<h2><center><font color='red'>Tokenization</font></h2>"
   ]
  },
  {
   "cell_type": "code",
   "execution_count": 31,
   "id": "829bd977-f8a1-4ce4-a3fa-b88ed4c728f7",
   "metadata": {},
   "outputs": [
    {
     "name": "stdout",
     "output_type": "stream",
     "text": [
      "Word Tokenization: ['sachin', 'is', 'considered', 'as', 'one', 'of', 'the', 'greatest', 'cricket', 'players', '.', 'virat', 'is', 'the', 'captain', 'of', 'the', 'indian', 'cricket', 'team', '.']\n",
      "\n",
      "Sentence Tokenization: ['sachin is considered as one of the greatest cricket players.', 'virat is the captain of the indian cricket team.']\n"
     ]
    }
   ],
   "source": [
    "text = 'Sachin is considered as one of the greatest cricket players. Virat is the captain of the Indian cricket team.'\n",
    "print(f\"Word Tokenization: {nltk.word_tokenize(text.lower())}\\n\\nSentence Tokenization: {nltk.sent_tokenize(text.lower())}\")"
   ]
  },
  {
   "cell_type": "markdown",
   "id": "08bcfd1c-4874-46c6-ad76-66a997190601",
   "metadata": {},
   "source": [
    "<h2><center><font color='red'>Stop Words Removal</font></h2>"
   ]
  },
  {
   "cell_type": "code",
   "execution_count": 32,
   "id": "8f583b50-6e3d-42d4-95d4-4f44b6539797",
   "metadata": {},
   "outputs": [
    {
     "name": "stdout",
     "output_type": "stream",
     "text": [
      "['sachin', 'considered', 'one', 'greatest', 'cricket', 'players', 'virat', 'captain', 'indian', 'cricket', 'team']\n"
     ]
    }
   ],
   "source": [
    "stopwords = nltk.corpus.stopwords.words('english')\n",
    "text_cleaned = []\n",
    "\n",
    "for word in nltk.word_tokenize(text):\n",
    "    \n",
    "    if word not in stopwords and word.isalpha(): text_cleaned.append(word.lower())\n",
    "\n",
    "print(text_cleaned)"
   ]
  },
  {
   "cell_type": "markdown",
   "id": "2976ed53-0a57-43d0-8282-53298b85035c",
   "metadata": {},
   "source": [
    "<h2><center><font color='red'>Stemming</font></h2>"
   ]
  },
  {
   "cell_type": "code",
   "execution_count": 33,
   "id": "33835add-b525-434a-a771-10676666f09b",
   "metadata": {},
   "outputs": [
    {
     "name": "stdout",
     "output_type": "stream",
     "text": [
      "['sachin', 'consid', 'one', 'greatest', 'cricket', 'player', 'virat', 'captain', 'indian', 'cricket', 'team']\n"
     ]
    }
   ],
   "source": [
    "stemmer = nltk.stem.PorterStemmer()\n",
    "\n",
    "stemmed_text = [stemmer.stem(word) for word in text_cleaned]\n",
    "print(stemmed_text)"
   ]
  },
  {
   "cell_type": "markdown",
   "id": "a9e7720a-139b-4f7e-87fd-a00420e94959",
   "metadata": {},
   "source": [
    "<h2><center><font color='red'>POS Tagging</font></h2>"
   ]
  },
  {
   "cell_type": "code",
   "execution_count": 35,
   "id": "088685fb-d6b7-4837-a482-c31b5136ce65",
   "metadata": {},
   "outputs": [
    {
     "name": "stdout",
     "output_type": "stream",
     "text": [
      "[('sachin', 'NN'), ('considered', 'VBD'), ('one', 'CD'), ('greatest', 'JJS'), ('cricket', 'NN'), ('players', 'NNS'), ('virat', 'VBP'), ('captain', 'NN'), ('indian', 'JJ'), ('cricket', 'NN'), ('team', 'NN')]\n"
     ]
    }
   ],
   "source": [
    "pos_tagged = nltk.pos_tag(text_cleaned)\n",
    "print(pos_tagged)"
   ]
  },
  {
   "cell_type": "markdown",
   "id": "0a67c67e-6b0d-4e3e-8862-4aadc6ceec18",
   "metadata": {},
   "source": [
    "<h2><center><font color='red'>TFIDF</font></h2>"
   ]
  },
  {
   "cell_type": "code",
   "execution_count": 41,
   "id": "259534c8-b995-4cd7-96fb-34c94eae491d",
   "metadata": {},
   "outputs": [
    {
     "name": "stdout",
     "output_type": "stream",
     "text": [
      "{'sachin': 10, 'is': 6, 'considered': 2, 'as': 0, 'one': 8, 'of': 7, 'the': 12, 'greatest': 4, 'cricket': 3, 'players': 9, 'virat': 13, 'captain': 1, 'indian': 5, 'team': 11}\n"
     ]
    }
   ],
   "source": [
    "text = ['Sachin is considered as one of the greatest cricket players. Virat is the captain of the Indian cricket team.']\n",
    "\n",
    "vectorizer = TfidfVectorizer(analyzer='word', use_idf=True, smooth_idf=True)\n",
    "\n",
    "out = vectorizer.fit(text)\n",
    "print(out.vocabulary_)"
   ]
  },
  {
   "cell_type": "code",
   "execution_count": 42,
   "id": "08f62009-9046-48d2-8c3a-613bea04d07c",
   "metadata": {},
   "outputs": [
    {
     "name": "stdout",
     "output_type": "stream",
     "text": [
      "  (0, 11)\t0.1796053020267749\n",
      "  (0, 5)\t0.1796053020267749\n",
      "  (0, 1)\t0.1796053020267749\n",
      "  (0, 13)\t0.1796053020267749\n",
      "  (0, 9)\t0.1796053020267749\n",
      "  (0, 3)\t0.3592106040535498\n",
      "  (0, 4)\t0.1796053020267749\n",
      "  (0, 12)\t0.5388159060803247\n",
      "  (0, 7)\t0.3592106040535498\n",
      "  (0, 8)\t0.1796053020267749\n",
      "  (0, 0)\t0.1796053020267749\n",
      "  (0, 2)\t0.1796053020267749\n",
      "  (0, 6)\t0.3592106040535498\n",
      "  (0, 10)\t0.1796053020267749\n"
     ]
    }
   ],
   "source": [
    "tfid_out = vectorizer.fit_transform(text)\n",
    "print(tfid_out)"
   ]
  },
  {
   "cell_type": "code",
   "execution_count": 43,
   "id": "7c53d608-76ff-4430-86be-ef664c525235",
   "metadata": {},
   "outputs": [
    {
     "name": "stdout",
     "output_type": "stream",
     "text": [
      "['as' 'captain' 'considered' 'cricket' 'greatest' 'indian' 'is' 'of' 'one'\n",
      " 'players' 'sachin' 'team' 'the' 'virat']\n"
     ]
    }
   ],
   "source": [
    "print(vectorizer.get_feature_names_out())"
   ]
  },
  {
   "cell_type": "code",
   "execution_count": 46,
   "id": "b003f085-9ce2-4948-ae19-6357b0cdc611",
   "metadata": {},
   "outputs": [
    {
     "name": "stdout",
     "output_type": "stream",
     "text": [
      "         as   captain  considered   cricket  greatest    indian        is  \\\n",
      "0  0.179605  0.179605    0.179605  0.359211  0.179605  0.179605  0.359211   \n",
      "\n",
      "         of       one   players    sachin      team       the     virat  \n",
      "0  0.359211  0.179605  0.179605  0.179605  0.179605  0.538816  0.179605  \n"
     ]
    }
   ],
   "source": [
    "data = pd.DataFrame(tfid_out.todense().tolist(), columns=vectorizer.get_feature_names_out())\n",
    "print(data)"
   ]
  }
 ],
 "metadata": {
  "kernelspec": {
   "display_name": "Python 3 (ipykernel)",
   "language": "python",
   "name": "python3"
  },
  "language_info": {
   "codemirror_mode": {
    "name": "ipython",
    "version": 3
   },
   "file_extension": ".py",
   "mimetype": "text/x-python",
   "name": "python",
   "nbconvert_exporter": "python",
   "pygments_lexer": "ipython3",
   "version": "3.11.5"
  }
 },
 "nbformat": 4,
 "nbformat_minor": 5
}
